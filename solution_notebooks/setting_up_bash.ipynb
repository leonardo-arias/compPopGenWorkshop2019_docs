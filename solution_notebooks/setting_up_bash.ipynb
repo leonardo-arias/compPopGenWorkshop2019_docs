{
 "cells": [
  {
   "cell_type": "markdown",
   "metadata": {},
   "source": [
    "# Simple Commands"
   ]
  },
  {
   "cell_type": "markdown",
   "metadata": {},
   "source": [
    "We first check which directory we are in, using the `pwd` (=Present Working Directory) command:"
   ]
  },
  {
   "cell_type": "code",
   "execution_count": 2,
   "metadata": {},
   "outputs": [
    {
     "name": "stdout",
     "output_type": "stream",
     "text": [
      "/home/stephan\n"
     ]
    }
   ],
   "source": [
    "pwd"
   ]
  },
  {
   "cell_type": "markdown",
   "metadata": {},
   "source": [
    "OK, se that's indeed our home folder. We can list the contents of that folder:"
   ]
  },
  {
   "cell_type": "code",
   "execution_count": 1,
   "metadata": {},
   "outputs": [
    {
     "name": "stdout",
     "output_type": "stream",
     "text": [
      "bashnb_test.ipynb  rnb_test.ipynb\t  test.txt\n",
      "pynb_test.ipynb    setting_up_bash.ipynb\n"
     ]
    }
   ],
   "source": [
    "ls"
   ]
  },
  {
   "cell_type": "markdown",
   "metadata": {},
   "source": [
    "We can now create a new directory:"
   ]
  },
  {
   "cell_type": "code",
   "execution_count": 4,
   "metadata": {},
   "outputs": [],
   "source": [
    "mkdir testDir"
   ]
  },
  {
   "cell_type": "markdown",
   "metadata": {},
   "source": [
    "and change into that directory:"
   ]
  },
  {
   "cell_type": "code",
   "execution_count": 5,
   "metadata": {},
   "outputs": [],
   "source": [
    "cd testDir"
   ]
  },
  {
   "cell_type": "markdown",
   "metadata": {},
   "source": [
    "and confirm that we are now in the new dir:"
   ]
  },
  {
   "cell_type": "code",
   "execution_count": 6,
   "metadata": {},
   "outputs": [
    {
     "name": "stdout",
     "output_type": "stream",
     "text": [
      "/home/stephan/testDir\n"
     ]
    }
   ],
   "source": [
    "pwd"
   ]
  },
  {
   "cell_type": "markdown",
   "metadata": {},
   "source": [
    "and playing with ``echo``:"
   ]
  },
  {
   "cell_type": "code",
   "execution_count": 7,
   "metadata": {},
   "outputs": [
    {
     "name": "stdout",
     "output_type": "stream",
     "text": [
      "Hello, how are you?\n"
     ]
    }
   ],
   "source": [
    "echo \"Hello, how are you?\""
   ]
  },
  {
   "cell_type": "markdown",
   "metadata": {},
   "source": [
    "OK, so let's try some more useful things with ``grep``:"
   ]
  },
  {
   "cell_type": "code",
   "execution_count": 8,
   "metadata": {},
   "outputs": [
    {
     "name": "stdout",
     "output_type": "stream",
     "text": [
      "           HGDP00511 M     French\n",
      "           HGDP00512 M     French\n",
      "           HGDP00513 F     French\n",
      "           HGDP00514 F     French\n",
      "           HGDP00515 M     French\n",
      "           HGDP00516 F     French\n",
      "           HGDP00517 F     French\n",
      "           HGDP00518 M     French\n",
      "           HGDP00519 M     French\n",
      "           HGDP00522 M     French\n",
      "           HGDP00523 F     French\n",
      "           HGDP00524 F     French\n",
      "           HGDP00525 M     French\n",
      "           HGDP00526 F     French\n",
      "           HGDP00527 F     French\n",
      "           HGDP00528 M     French\n",
      "           HGDP00529 F     French\n",
      "           HGDP00531 F     French\n",
      "           HGDP00533 M     French\n",
      "           HGDP00534 F     French\n",
      "           HGDP00535 F     French\n",
      "           HGDP00536 F     French\n",
      "           HGDP00537 F     French\n",
      "           HGDP00538 M     French\n",
      "           HGDP00539 F     French\n",
      "     SouthFrench3326 M     French\n",
      "     SouthFrench3947 M     French\n",
      "     SouthFrench1323 M     French\n",
      "     SouthFrench3951 M     French\n",
      "     SouthFrench3068 M     French\n",
      "     SouthFrench1112 M     French\n",
      "     SouthFrench4018 M     French\n"
     ]
    }
   ],
   "source": [
    "grep French /data/pca/genotypes_small.ind"
   ]
  },
  {
   "cell_type": "markdown",
   "metadata": {},
   "source": [
    "Alright, so that lists all French individuals. Now let's count them:"
   ]
  },
  {
   "cell_type": "code",
   "execution_count": 9,
   "metadata": {},
   "outputs": [
    {
     "name": "stdout",
     "output_type": "stream",
     "text": [
      "32\n"
     ]
    }
   ],
   "source": [
    "grep -c French /data/pca/genotypes_small.ind"
   ]
  },
  {
   "cell_type": "markdown",
   "metadata": {},
   "source": [
    "# Pipes"
   ]
  },
  {
   "cell_type": "markdown",
   "metadata": {},
   "source": [
    "Let's look at the structure of our ``ind`` file:"
   ]
  },
  {
   "cell_type": "code",
   "execution_count": 10,
   "metadata": {},
   "outputs": [
    {
     "name": "stdout",
     "output_type": "stream",
     "text": [
      "             Yuk_009 M    Yukagir\n",
      "             Yuk_025 F    Yukagir\n",
      "             Yuk_022 F    Yukagir\n",
      "             Yuk_020 F    Yukagir\n",
      "               MC_40 M    Chukchi\n",
      "             Yuk_024 F    Yukagir\n",
      "             Yuk_023 F    Yukagir\n",
      "               MC_16 M    Chukchi\n",
      "               MC_15 F    Chukchi\n",
      "               MC_18 M    Chukchi\n"
     ]
    }
   ],
   "source": [
    "head /data/pca/genotypes_small.ind"
   ]
  },
  {
   "cell_type": "markdown",
   "metadata": {},
   "source": [
    "Let's filter out the population column:"
   ]
  },
  {
   "cell_type": "code",
   "execution_count": 13,
   "metadata": {},
   "outputs": [
    {
     "name": "stdout",
     "output_type": "stream",
     "text": [
      "Yukagir\n",
      "Yukagir\n",
      "Yukagir\n",
      "Yukagir\n",
      "Chukchi\n",
      "Yukagir\n",
      "Yukagir\n",
      "Chukchi\n",
      "Chukchi\n",
      "Chukchi\n"
     ]
    }
   ],
   "source": [
    "head /data/pca/genotypes_small.ind | awk '{print $3}'"
   ]
  },
  {
   "cell_type": "markdown",
   "metadata": {},
   "source": [
    "Let's sort it (notice we now use ``cat`` instead of ``head``, but use ``head`` in the end:"
   ]
  },
  {
   "cell_type": "code",
   "execution_count": 16,
   "metadata": {},
   "outputs": [
    {
     "name": "stdout",
     "output_type": "stream",
     "text": [
      "Abkhasian\n",
      "Abkhasian\n",
      "Abkhasian\n",
      "Abkhasian\n",
      "Abkhasian\n",
      "Abkhasian\n",
      "Abkhasian\n",
      "Abkhasian\n",
      "Abkhasian\n",
      "Adygei\n",
      "sort: fflush fehlgeschlagen: Standardausgabe: Datenübergabe unterbrochen (broken pipe)\n",
      "sort: Schreibfehler\n"
     ]
    }
   ],
   "source": [
    "cat /data/pca/genotypes_small.ind | awk '{print $3}' | sort | head"
   ]
  },
  {
   "cell_type": "markdown",
   "metadata": {},
   "source": [
    "OK, so there are some error messages in the end because ``head`` ungracefully discards the rest of the data, but that's OK."
   ]
  },
  {
   "cell_type": "markdown",
   "metadata": {},
   "source": [
    "Now let's use ``uniq`` to get rid of population name duplicates:"
   ]
  },
  {
   "cell_type": "code",
   "execution_count": 17,
   "metadata": {},
   "outputs": [
    {
     "name": "stdout",
     "output_type": "stream",
     "text": [
      "Abkhasian\n",
      "Adygei\n",
      "Albanian\n",
      "Aleut\n",
      "Aleut_Tlingit\n",
      "Altaian\n",
      "Ami\n",
      "Armenian\n",
      "Atayal\n",
      "Balkar\n"
     ]
    }
   ],
   "source": [
    "cat /data/pca/genotypes_small.ind | awk '{print $3}' | sort | uniq | head"
   ]
  },
  {
   "cell_type": "markdown",
   "metadata": {},
   "source": [
    "And now let's count:"
   ]
  },
  {
   "cell_type": "code",
   "execution_count": 18,
   "metadata": {},
   "outputs": [
    {
     "name": "stdout",
     "output_type": "stream",
     "text": [
      "116\n"
     ]
    }
   ],
   "source": [
    "cat /data/pca/genotypes_small.ind | awk '{print $3}' | sort | uniq | wc -l"
   ]
  },
  {
   "cell_type": "markdown",
   "metadata": {},
   "source": [
    "OK, so there are 116 populations in the dataset. And how many individuals?"
   ]
  },
  {
   "cell_type": "code",
   "execution_count": 19,
   "metadata": {},
   "outputs": [
    {
     "name": "stdout",
     "output_type": "stream",
     "text": [
      "1340 /data/pca/genotypes_small.ind\n"
     ]
    }
   ],
   "source": [
    "wc -l /data/pca/genotypes_small.ind"
   ]
  },
  {
   "cell_type": "markdown",
   "metadata": {},
   "source": [
    "So 1340 individuals on 116 populations, so a bit more than 10 per population on average. Good to know!"
   ]
  },
  {
   "cell_type": "code",
   "execution_count": null,
   "metadata": {},
   "outputs": [],
   "source": []
  }
 ],
 "metadata": {
  "kernelspec": {
   "display_name": "Bash",
   "language": "bash",
   "name": "bash"
  },
  "language_info": {
   "codemirror_mode": "shell",
   "file_extension": ".sh",
   "mimetype": "text/x-sh",
   "name": "bash"
  }
 },
 "nbformat": 4,
 "nbformat_minor": 2
}
